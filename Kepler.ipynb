{
 "cells": [
  {
   "cell_type": "markdown",
   "metadata": {},
   "source": [
    "# Motion of particle in $1/r$ potential\n",
    "In this notebook explicit expressions for the trajectory of a particle moving in a $1/r$ central force field are derived. These expressions are then implemented in the `KeplerSolution` class in [kepler.py](kepler.py).\n",
    "## Derivation of the Binet equation\n",
    "Consider the motion in the following central potential\n",
    "\n",
    "$$\n",
    "U(r)=-\\frac{\\alpha}{r}.\n",
    "$$\n",
    "\n",
    "The total energy is given by\n",
    "\n",
    "$$\n",
    "E = T + U = \\frac{1}{2}m\\left(r^2\\dot{\\varphi}^2 + \\dot{r}^2\\right) - \\frac{\\alpha}{r}.\n",
    "$$\n",
    "\n",
    "with $\\alpha>0$. Since the angular momentum $L=mr^2\\dot{\\varphi}$ is conserved, this leads to\n",
    "\n",
    "$$\n",
    "E = \\frac{m}{2}\\dot{r}^2 + \\underbrace{\\frac{L^2}{2m}\\frac{1}{r^2} - \\frac{\\alpha}{r}}_{=:U_{\\text{eff}}(r)}\\qquad(\\dagger)\n",
    "$$\n",
    "\n",
    "Introduce the new variable $u(\\varphi) = 1/r(\\varphi)$.\n",
    "\n",
    "From the conservation of angular momentum it then follows that\n",
    "\n",
    "$$\n",
    "\\dot{r} = -\\frac{L}{m}\\frac{du}{d\\varphi}\\qquad(\\ddagger)\n",
    "$$\n",
    "\n",
    "and the energy equation in Eq. ($\\dagger$) can be written as\n",
    "\n",
    "$$\n",
    "E = \\frac{L^2}{2m}\\left(\\frac{du}{d\\varphi}\\right)^2 + \\frac{L^2}{2m}u^2 - \\alpha u\n",
    "$$\n",
    "\n",
    "taking the derivative $d/d\\varphi$ of this equation then gives, after cancelling factors of $du/d\\varphi$:\n",
    "\n",
    "$$\n",
    "\\frac{d^2u}{d\\varphi^2} + u = \\frac{\\alpha m}{L^2}\n",
    "$$\n",
    "\n",
    "This is also known as the [Binet equation](https://en.wikipedia.org/wiki/Binet_equation). The solution is\n",
    "\n",
    "## Solution of the Binet equation\n",
    "\n",
    "$$\n",
    "u(\\varphi) = \\frac{\\alpha m}{L^2}\\left(1+\\varepsilon_{\\text{ex}}\\cos(\\varphi-\\varphi_0)\\right)\\qquad(\\star)\n",
    "$$\n",
    "\n",
    "or\n",
    "\n",
    "$$\n",
    "r(\\varphi) = \\frac{L^2}{\\alpha m}\\frac{1}{1+\\varepsilon_{\\text{ex}}\\cos(\\varphi-\\varphi_0)}\n",
    "$$\n",
    "\n",
    "Here $0\\le \\varepsilon_{\\text{ex}}<1$ is the excentricity. $\\varepsilon_{\\text{ex}}$ would correspond to circular motion.\n",
    "\n",
    "## Time derivatives in polar coordinates\n",
    "\n",
    "We further have that $\\dot{r}=0$ for $\\varphi=\\varphi_0$ (and $\\varphi=\\varphi_0+n\\pi$, $n\\in\\mathbb{Z}$). This allows relating total energy $E$, angular momentum $L$ and excentricity $\\varepsilon_{\\text{ex}}$ as follows:\n",
    "\n",
    "$$\n",
    "E = -\\frac{\\alpha^2m}{2L^2}\\left(1-\\varepsilon_{\\text{ex}}^2\\right)\n",
    "$$\n",
    "\n",
    "The time derivatives $r$ and $\\varphi$ are obtained from Eqs. ($\\star$), ($\\ddagger$) and angular momentum conservation as\n",
    "\n",
    "$$\n",
    "\\begin{aligned}\n",
    "\\dot{r} &= -\\frac{L}{m}\\frac{du}{d\\varphi} = \\frac{\\alpha}{L}\\varepsilon_{\\text{ex}}\\sin(\\varphi-\\varphi_0)\\\\\n",
    "\\dot{\\varphi} &= \\frac{L}{m}u^2 = \\frac{\\alpha^2 m}{L^3}\\left(1+\\varepsilon_{\\text{ex}}\\cos(\\varphi-\\varphi_0)\\right)^2\n",
    "\\end{aligned}\n",
    "$$\n",
    "\n",
    "Further, for the second derivatives we get with the chain rule\n",
    "\n",
    "$$\n",
    "\\begin{aligned}\n",
    "\\ddot{r} &= \\frac{\\alpha}{L}\\varepsilon_{\\text{ex}}\\dot{\\varphi}\\cos(\\varphi-\\varphi)\\\\\n",
    "&= \\frac{\\alpha^3 m}{L^4} \\varepsilon_{\\text{ex}} \\left(1+\\varepsilon_{\\text{ex}}\\cos(\\varphi-\\varphi_0)\\right)^2\\cos(\\varphi-\\varphi).\n",
    "\\end{aligned}\n",
    "$$\n",
    "\n",
    "### Position, velocity and acceleration in polar coordinates\n",
    "\n",
    "With this, we can work out expressions for position $\\boldsymbol{x}$ velocity $\\boldsymbol{v}=\\dot{\\boldsymbol{x}}$ and acceleration $\\boldsymbol{a}=\\ddot{\\boldsymbol{x}}$ in polar coordinates:\n",
    "\n",
    "$$\n",
    "\\begin{aligned}\n",
    "\\boldsymbol{x} &= r\\widehat{\\boldsymbol{e}}_r\\\\\n",
    "\\dot{\\boldsymbol{x}} &= \\dot{r}\\widehat{\\boldsymbol{e}}_r + r\\dot{\\varphi}\\widehat{\\boldsymbol{e}}_\\varphi\\\\\n",
    "\\ddot{\\boldsymbol{x}} &= \\left(\\ddot{r}-r\\dot{\\varphi}^2\\right)\\widehat{\\boldsymbol{e}}_r\n",
    "\\end{aligned}\n",
    "$$"
   ]
  },
  {
   "cell_type": "markdown",
   "metadata": {},
   "source": [
    "## Demonstration\n",
    "Visualise some trajectories generated with the `KeplerSolution` class. Sample from the exact trajectories are compared to a numerical solution obtained with the RK4 timestepper."
   ]
  },
  {
   "cell_type": "code",
   "execution_count": 1,
   "metadata": {},
   "outputs": [],
   "source": [
    "import tensorflow as tf\n",
    "from matplotlib import pyplot as plt\n",
    "import numpy as np\n",
    "import setpath\n",
    "from time_integrator import RK4Integrator\n",
    "from dynamical_system import KeplerSystem\n",
    "from kepler import KeplerSolution\n",
    "\n",
    "%matplotlib inline"
   ]
  },
  {
   "cell_type": "code",
   "execution_count": 4,
   "metadata": {},
   "outputs": [
    {
     "data": {
      "text/plain": [
       "<matplotlib.legend.Legend at 0x125573b80>"
      ]
     },
     "execution_count": 4,
     "metadata": {},
     "output_type": "execute_result"
    },
    {
     "data": {
      "image/png": "[encoded data removed]",
      "text/plain": [
       "<Figure size 720x720 with 1 Axes>"
      ]
     },
     "metadata": {
      "needs_background": "light"
     },
     "output_type": "display_data"
    }
   ],
   "source": [
    "# Strength of 1/r potential\n",
    "alpha = 1.0\n",
    "# Mass of particle\n",
    "mass = 1.0\n",
    "# Excentricity of elliptic orbit\n",
    "excentricity = 0.8\n",
    "# Energy (must be negative)\n",
    "energy = -1.0\n",
    "# Initial angle\n",
    "phi0=0.54\n",
    "# Timestep size for numerical integrator\n",
    "dt = 0.01\n",
    "# Final time\n",
    "t_final = 8.0\n",
    "\n",
    "# Construct solution\n",
    "kepler = KeplerSolution(mass=mass,alpha=alpha,excentricity=excentricity,energy=energy,phi0=phi0)\n",
    "# Random collection of angles\n",
    "Phi = np.random.uniform(low=-np.pi,high=+np.pi,size=100)\n",
    "positions_exact = kepler.position(Phi)\n",
    "velocities_exact = kepler.velocity(Phi)\n",
    "\n",
    "q = positions_exact[:,0]\n",
    "qdot = velocities_exact[:,0]\n",
    "\n",
    "# Compute solution numerically.\n",
    "dynamical_system = KeplerSystem(mass=mass,alpha=alpha)\n",
    "time_integrator = RK4Integrator(dynamical_system,dt=dt)\n",
    "time_integrator.set_state(q,qdot)\n",
    "\n",
    "nsteps = int(t_final/dt)\n",
    "q_all = np.zeros(shape=[nsteps+1,3])\n",
    "for j in range(nsteps+1):\n",
    "    q_all[j,:] = time_integrator.q[:]\n",
    "    time_integrator.integrate(1)\n",
    "\n",
    "# Visualise trajectories\n",
    "plt.figure(figsize=(10,10))\n",
    "plt.plot(q_all[:,0],q_all[:,1],linewidth=2,color=\"red\",label=\"RK4 integrator\")\n",
    "plt.plot(positions_exact[0,:],positions_exact[1,:],marker='o',markersize=4,linewidth=0,color=\"blue\",label=\"Exact solution\")\n",
    "ax = plt.gca()\n",
    "ax.set_xlim(-1,+0.5)\n",
    "ax.set_ylim(-1,+0.5)\n",
    "ax.set_xlabel(\"$x$-coordinate\")\n",
    "ax.set_ylabel(\"$y$-coordinate\")\n",
    "plt.legend(loc=\"lower right\")"
   ]
  },
  {
   "cell_type": "code",
   "execution_count": null,
   "metadata": {},
   "outputs": [],
   "source": []
  }
 ],
 "metadata": {
  "kernelspec": {
   "display_name": "Python 3.9.13 64-bit",
   "language": "python",
   "name": "python3"
  },
  "language_info": {
   "codemirror_mode": {
    "name": "ipython",
    "version": 3
   },
   "file_extension": ".py",
   "mimetype": "text/x-python",
   "name": "python",
   "nbconvert_exporter": "python",
   "pygments_lexer": "ipython3",
   "version": "3.9.13"
  },
  "orig_nbformat": 4,
  "vscode": {
   "interpreter": {
    "hash": "949777d72b0d2535278d3dc13498b2535136f6dfe0678499012e853ee9abcab1"
   }
  }
 },
 "nbformat": 4,
 "nbformat_minor": 2
}
