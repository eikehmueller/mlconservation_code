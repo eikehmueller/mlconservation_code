{
 "cells": [
  {
   "cell_type": "markdown",
   "metadata": {},
   "source": [
    "## Train neural network"
   ]
  },
  {
   "cell_type": "code",
   "execution_count": null,
   "metadata": {},
   "outputs": [],
   "source": [
    "try:\n",
    "    from google.colab import drive\n",
    "    drive.mount('/content/drive')\n",
    "    import sys\n",
    "    sys.path.append(\"/content/drive/MyDrive/git_workspace/mlconservation_code/src\")\n",
    "    print (\"Running on google drive\")\n",
    "except:\n",
    "    print (\"Not running on google drive\")\n",
    "\n",
    "import numpy as np\n",
    "import tensorflow as tf\n",
    "\n",
    "from data_generator import DataGenerator\n",
    "from dynamical_system import XYModelSystem\n",
    "from nn_models import XYModelNNLagrangian, LagrangianModel\n",
    "from initializer import XYModelRandomInitializer, XYModelConstantInitializer\n",
    "%load_ext autoreload\n",
    "%autoreload 2"
   ]
  },
  {
   "cell_type": "code",
   "execution_count": 2,
   "metadata": {},
   "outputs": [],
   "source": [
    "BATCH_SIZE = 16\n",
    "EPOCHS = 200\n",
    "STEPS_PER_EPOCH=100\n",
    "dim = 4\n",
    "sigma = 0.001\n",
    "sample_full_phase_space = False\n",
    "\n",
    "if sample_full_phase_space:\n",
    "    initializer = XYModelRandomInitializer(dim)\n",
    "    re_initialize = True\n",
    "else:\n",
    "    initializer = XYModelConstantInitializer(dim)\n",
    "    re_initialize = False\n",
    "\n",
    "dynamical_system = XYModelSystem(dim)\n",
    "data_generator = DataGenerator(dynamical_system, \n",
    "                               initializer,\n",
    "                               re_initialize=re_initialize,\n",
    "                               sigma=sigma)\n",
    "train_batches = data_generator.dataset.batch(BATCH_SIZE)\n",
    "nn_lagrangian = XYModelNNLagrangian(dim,rotation_invariant=True,shift_invariant=True)\n",
    "model = LagrangianModel(nn_lagrangian)"
   ]
  },
  {
   "cell_type": "code",
   "execution_count": null,
   "metadata": {},
   "outputs": [],
   "source": [
    "learning_rate = 1.E-4\n",
    "model.compile(\n",
    "    loss=\"mse\",\n",
    "    metrics=[],\n",
    "    optimizer=tf.keras.optimizers.Adam(learning_rate=learning_rate),\n",
    ")\n",
    "log_dir = './tb_logs/'\n",
    "tensorboard_cb = tf.keras.callbacks.TensorBoard(log_dir=log_dir)\n",
    "\n",
    "result = model.fit(train_batches,\n",
    "                   epochs=EPOCHS,\n",
    "                   steps_per_epoch=STEPS_PER_EPOCH,\n",
    "                   callbacks=[tensorboard_cb])\n"
   ]
  },
  {
   "cell_type": "code",
   "execution_count": null,
   "metadata": {},
   "outputs": [],
   "source": [
    "nn_lagrangian.save(\"../assests/saved_models/nn_lagrangian26Jul2022\")"
   ]
  }
 ],
 "metadata": {
  "kernelspec": {
   "display_name": "Python 3.9.13 64-bit",
   "language": "python",
   "name": "python3"
  },
  "language_info": {
   "codemirror_mode": {
    "name": "ipython",
    "version": 3
   },
   "file_extension": ".py",
   "mimetype": "text/x-python",
   "name": "python",
   "nbconvert_exporter": "python",
   "pygments_lexer": "ipython3",
   "version": "3.9.13"
  },
  "orig_nbformat": 4,
  "vscode": {
   "interpreter": {
    "hash": "949777d72b0d2535278d3dc13498b2535136f6dfe0678499012e853ee9abcab1"
   }
  }
 },
 "nbformat": 4,
 "nbformat_minor": 2
}
